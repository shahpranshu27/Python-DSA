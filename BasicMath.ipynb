{
  "nbformat": 4,
  "nbformat_minor": 0,
  "metadata": {
    "colab": {
      "provenance": [],
      "authorship_tag": "ABX9TyMMnnq10WnHUaP0WY6Ggo4M",
      "include_colab_link": true
    },
    "kernelspec": {
      "name": "python3",
      "display_name": "Python 3"
    },
    "language_info": {
      "name": "python"
    }
  },
  "cells": [
    {
      "cell_type": "markdown",
      "metadata": {
        "id": "view-in-github",
        "colab_type": "text"
      },
      "source": [
        "<a href=\"https://colab.research.google.com/github/shahpranshu27/Python-DSA/blob/main/BasicMath.ipynb\" target=\"_parent\"><img src=\"https://colab.research.google.com/assets/colab-badge.svg\" alt=\"Open In Colab\"/></a>"
      ]
    },
    {
      "cell_type": "code",
      "execution_count": 5,
      "metadata": {
        "colab": {
          "base_uri": "https://localhost:8080/"
        },
        "id": "N-oFlhhT7KOQ",
        "outputId": "308d2889-8f96-4204-8a4a-9982f573f1da"
      },
      "outputs": [
        {
          "output_type": "execute_result",
          "data": {
            "text/plain": [
              "5"
            ]
          },
          "metadata": {},
          "execution_count": 5
        }
      ],
      "source": [
        "# count number of digits in a number\n",
        "\n",
        "def count_digits(n):\n",
        "    cnt = 0\n",
        "    while n>0:\n",
        "        cnt=cnt+1\n",
        "        n//=10\n",
        "\n",
        "    return cnt\n",
        "\n",
        "n=12345\n",
        "count_digits(n)"
      ]
    },
    {
      "cell_type": "code",
      "source": [
        "# reverse the number\n",
        "\n",
        "n=int(input(\"enter n: \"))\n",
        "\n",
        "r=0\n",
        "while(n>0):\n",
        "    l=n%10\n",
        "    r=(r*10)+l\n",
        "    n=n//10\n",
        "\n",
        "print(\"reverse: \",r)"
      ],
      "metadata": {
        "colab": {
          "base_uri": "https://localhost:8080/"
        },
        "id": "Ufv5w_Rh7XiV",
        "outputId": "821af1ec-266d-4a9b-b892-7e3bf274869e"
      },
      "execution_count": 6,
      "outputs": [
        {
          "output_type": "stream",
          "name": "stdout",
          "text": [
            "enter n: 1234\n",
            "reverse:  4321\n"
          ]
        }
      ]
    },
    {
      "cell_type": "code",
      "source": [
        "# pallindrome\n",
        "\n",
        "n=int(input(\"enter n: \"))\n",
        "\n",
        "temp=n\n",
        "r=0\n",
        "while(n>0):\n",
        "  l=n%10\n",
        "  r=(r*10)+l\n",
        "  n=n//10\n",
        "\n",
        "if(temp==r):\n",
        "  print(\"pallindrome\")\n",
        "else:\n",
        "  print(\"not pallindrome\")"
      ],
      "metadata": {
        "colab": {
          "base_uri": "https://localhost:8080/"
        },
        "id": "yFDYRHJC7bxq",
        "outputId": "0b57baa9-a245-4737-9c36-ff3b732f430b"
      },
      "execution_count": 7,
      "outputs": [
        {
          "output_type": "stream",
          "name": "stdout",
          "text": [
            "enter n: 121\n",
            "pallindrome\n"
          ]
        }
      ]
    },
    {
      "cell_type": "code",
      "source": [
        "# find gcd\n",
        "\n",
        "gcd = 1\n",
        "\n",
        "def find_gcd(n1, n2):\n",
        "  for i in range(1, min(n1,n2)+1):\n",
        "    if n1%i==0 and n2%i==0:\n",
        "      gcd=i\n",
        "  print(\"gcd: \",gcd)\n",
        "\n",
        "n1=int(input(\"enter n1: \"))\n",
        "n2=int(input(\"enter n2: \"))\n",
        "\n",
        "find_gcd(n1,n2)"
      ],
      "metadata": {
        "colab": {
          "base_uri": "https://localhost:8080/"
        },
        "id": "TITWkWW9AjDP",
        "outputId": "f9e3bc9b-dc76-4826-8e97-68600eefcf00"
      },
      "execution_count": 9,
      "outputs": [
        {
          "output_type": "stream",
          "name": "stdout",
          "text": [
            "enter n1: 12\n",
            "enter n2: 20\n",
            "gcd:  4\n"
          ]
        }
      ]
    },
    {
      "cell_type": "code",
      "source": [],
      "metadata": {
        "id": "kX7Ej6pzVM0g"
      },
      "execution_count": null,
      "outputs": []
    }
  ]
}