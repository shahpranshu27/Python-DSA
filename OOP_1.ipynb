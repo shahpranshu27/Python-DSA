{
  "nbformat": 4,
  "nbformat_minor": 0,
  "metadata": {
    "colab": {
      "provenance": [],
      "authorship_tag": "ABX9TyPwKj24EmG2wTeMrFcgzwc0",
      "include_colab_link": true
    },
    "kernelspec": {
      "name": "python3",
      "display_name": "Python 3"
    },
    "language_info": {
      "name": "python"
    }
  },
  "cells": [
    {
      "cell_type": "markdown",
      "metadata": {
        "id": "view-in-github",
        "colab_type": "text"
      },
      "source": [
        "<a href=\"https://colab.research.google.com/github/shahpranshu27/Python-DSA/blob/main/OOP_1.ipynb\" target=\"_parent\"><img src=\"https://colab.research.google.com/assets/colab-badge.svg\" alt=\"Open In Colab\"/></a>"
      ]
    },
    {
      "cell_type": "code",
      "execution_count": 1,
      "metadata": {
        "id": "euZ4zizxJwEr"
      },
      "outputs": [],
      "source": [
        "# Syntax of OOP\n",
        "# class_name = object_name()"
      ]
    },
    {
      "cell_type": "code",
      "source": [
        "L = list()\n",
        "L"
      ],
      "metadata": {
        "colab": {
          "base_uri": "https://localhost:8080/"
        },
        "id": "YI5bPh8pK64d",
        "outputId": "dc64e01b-aca4-43c7-b56a-f12037ee84c1"
      },
      "execution_count": 2,
      "outputs": [
        {
          "output_type": "execute_result",
          "data": {
            "text/plain": [
              "[]"
            ]
          },
          "metadata": {},
          "execution_count": 2
        }
      ]
    },
    {
      "cell_type": "code",
      "source": [
        "# object literal -> Here we don't require to write List, Sets, Tuple etc in the format of class = object(), because they're predefined and in built\n",
        "L = [1,2,3]\n",
        "L"
      ],
      "metadata": {
        "colab": {
          "base_uri": "https://localhost:8080/"
        },
        "id": "OnACu6wpK9Kl",
        "outputId": "8cc4ec80-d75f-4682-e66b-c24ff60afe18"
      },
      "execution_count": 3,
      "outputs": [
        {
          "output_type": "execute_result",
          "data": {
            "text/plain": [
              "[1, 2, 3]"
            ]
          },
          "metadata": {},
          "execution_count": 3
        }
      ]
    },
    {
      "cell_type": "code",
      "source": [
        "# Classes are set of rules, and objects are instances of classes"
      ],
      "metadata": {
        "id": "VDns5_KlLDCL"
      },
      "execution_count": 4,
      "outputs": []
    },
    {
      "cell_type": "code",
      "source": [
        "class Atm:\n",
        "\n",
        "  # contructor (special function) -> it has a superpower, that to run the code inside this function, we don't need to call this function explicitly, unlike other functions.\n",
        "  # The code inside is run automatically as we create an object\n",
        "  def __init__(self):\n",
        "    self.pin = ''\n",
        "    self.balance = 0\n",
        "    # self.menu()\n",
        "\n",
        "  def menu(self):\n",
        "    user_input = input(\"\"\"\n",
        "    Hi, How can I help you?\n",
        "    1. Press 1 for create pin\n",
        "    2. Press 2 for change pin\n",
        "    3. Press 3 for check balance\n",
        "    4. Press 4 for withdraw balance\n",
        "    5. Press anything else for exit\n",
        "    \"\"\")\n",
        "\n",
        "    if user_input == '1':\n",
        "      # create pin\n",
        "      self.create_pin()\n",
        "    elif user_input == '2':\n",
        "      # change pin\n",
        "      self.change_pin()\n",
        "    elif user_input == '3':\n",
        "      # check balance\n",
        "      self.check_balance()\n",
        "    elif user_input == '4':\n",
        "      # withdraw balance\n",
        "      self.withdraw_balance()\n",
        "    else:\n",
        "      exit()\n",
        "\n",
        "  def create_pin(self):\n",
        "    user_pin = input(\"enter pin: \")\n",
        "    self.pin = user_pin\n",
        "    # print(self.pin)\n",
        "\n",
        "    user_balance = int(input(\"enter balance: \"))\n",
        "    self.balance = user_balance\n",
        "    # print(self.balance)\n",
        "\n",
        "    print(\"pin created successfully\")\n",
        "    self.menu()\n",
        "\n",
        "  def change_pin(self):\n",
        "    old_pin = input(\"enter old pin: \")\n",
        "    if old_pin == self.pin:\n",
        "      new_pin = int(input(\"enter new pin: \"))\n",
        "      self.pin = new_pin\n",
        "      print(\"pin changed successfully\")\n",
        "      self.menu()\n",
        "    else:\n",
        "      print(\"invalid old pin\")\n",
        "      self.menu()\n",
        "\n",
        "  def check_balance(self):\n",
        "    user_pin = input(\"enter pin:\")\n",
        "    if user_pin == self.pin:\n",
        "      print(\"your balance is: \", self.balance)\n",
        "      self.menu()\n",
        "    else:\n",
        "      print(\"invalid pin\")\n",
        "      self.menu()\n",
        "\n",
        "  def withdraw_balance(self):\n",
        "    user_pin = input(\"enter pin: \")\n",
        "    if user_pin == self.pin:\n",
        "      amount = int(input(\"enter amount to withdraw: \"))\n",
        "      if self.balance >= amount:\n",
        "        self.balance -= amount\n",
        "        print(\"amount withdrawn successfully\")\n",
        "        print(\"current balance: \", self.balance)\n",
        "        self.menu()\n",
        "      else:\n",
        "        print(\"insufficient balance!\")\n",
        "        self.menu()\n",
        "    else:\n",
        "      print(\"invalid pin\")\n",
        "      self.menu()\n"
      ],
      "metadata": {
        "id": "YOpSJUHKSvMp"
      },
      "execution_count": 5,
      "outputs": []
    },
    {
      "cell_type": "code",
      "source": [
        "obj = Atm()"
      ],
      "metadata": {
        "id": "ImYYIeRgTysp"
      },
      "execution_count": 6,
      "outputs": []
    },
    {
      "cell_type": "code",
      "source": [
        "print(type(obj))"
      ],
      "metadata": {
        "colab": {
          "base_uri": "https://localhost:8080/"
        },
        "id": "jAZbG-f2T0h4",
        "outputId": "9664ca8f-dd2a-43cc-f804-ad1d140d9164"
      },
      "execution_count": 7,
      "outputs": [
        {
          "output_type": "stream",
          "name": "stdout",
          "text": [
            "<class '__main__.Atm'>\n"
          ]
        }
      ]
    },
    {
      "cell_type": "code",
      "source": [
        "L = [1,2,3]\n",
        "len(L) # function -> predefined and outside the class List\n",
        "L.append(4) # method -> because it's inside the class List"
      ],
      "metadata": {
        "id": "4q6vsOkZT7d4"
      },
      "execution_count": 8,
      "outputs": []
    },
    {
      "cell_type": "code",
      "source": [
        "class Fraction:\n",
        "\n",
        "  # parameterized constructor\n",
        "  def __init__(self, x, y):\n",
        "      self.num = x\n",
        "      self.den = y\n",
        "\n",
        "  # this is also a magic method, which is called automatically when we use print statement for the object created and class initialised\n",
        "  def __str__(self):\n",
        "    return '{}/{}'.format(self.num, self.den)\n",
        "\n",
        "  # this is also a magic method, which gets triggered automatically as we use + operator between objects\n",
        "  def __add__(self, other):\n",
        "    return '{}/{}'.format(self.num * other.den + self.den * other.num, self.den * other.den)\n",
        "\n",
        "  # # this is also a magic method, which gets triggered automatically as we use - operator between objects\n",
        "  def __sub__(self, other):\n",
        "    return '{}/{}'.format(self.num * other.den - self.den * other.num, self.den * other.den)\n",
        "\n",
        "  # this is also a magic method, which gets triggered automatically as we use * operator between objects\n",
        "  def __mul__(self, other):\n",
        "    return '{}/{}'.format(self.num * other.num, self.den * other.den)\n",
        "\n",
        "  # this is also a magic method, which gets triggered automatically as we use / operator between objects\n",
        "  def __truediv__(self, other):\n",
        "    return '{}/{}'.format(self.num * other.den, self.den * other.num)\n",
        "\n",
        "  def convert_to_decimal(self):\n",
        "    return self.num/self.den"
      ],
      "metadata": {
        "id": "MTRSZCviliH9"
      },
      "execution_count": 55,
      "outputs": []
    },
    {
      "cell_type": "code",
      "source": [
        "fr1 = Fraction(3,4)\n",
        "fr2 = Fraction(1,2)"
      ],
      "metadata": {
        "id": "XPwk5YstZsVE"
      },
      "execution_count": 56,
      "outputs": []
    },
    {
      "cell_type": "code",
      "source": [
        "# print(fr1)\n",
        "# print(fr2)\n",
        "fr1.convert_to_decimal()"
      ],
      "metadata": {
        "colab": {
          "base_uri": "https://localhost:8080/"
        },
        "id": "N5bXKfrvZu5E",
        "outputId": "589d2c73-2026-4819-bb3c-071eb4c9b6db"
      },
      "execution_count": 57,
      "outputs": [
        {
          "output_type": "execute_result",
          "data": {
            "text/plain": [
              "0.75"
            ]
          },
          "metadata": {},
          "execution_count": 57
        }
      ]
    },
    {
      "cell_type": "code",
      "source": [
        "print(fr1 + fr2) # + is an unsupported fraction type for Fraction class"
      ],
      "metadata": {
        "colab": {
          "base_uri": "https://localhost:8080/"
        },
        "id": "wJSqB1TTZwin",
        "outputId": "985e5a84-36b4-4cd8-d82a-01aabc382a0e"
      },
      "execution_count": 48,
      "outputs": [
        {
          "output_type": "stream",
          "name": "stdout",
          "text": [
            "10/8\n"
          ]
        }
      ]
    },
    {
      "cell_type": "code",
      "source": [
        "print(fr1 - fr2)"
      ],
      "metadata": {
        "colab": {
          "base_uri": "https://localhost:8080/"
        },
        "id": "EqzvNG6OdEcA",
        "outputId": "0d239c6e-fb0c-45b4-a8d7-63f06d20d9cd"
      },
      "execution_count": 49,
      "outputs": [
        {
          "output_type": "stream",
          "name": "stdout",
          "text": [
            "2/8\n"
          ]
        }
      ]
    },
    {
      "cell_type": "code",
      "source": [
        "print(fr1 * fr2)"
      ],
      "metadata": {
        "colab": {
          "base_uri": "https://localhost:8080/"
        },
        "id": "k0or28xRe-pc",
        "outputId": "6cf377f4-1b21-4c07-d5de-9ddb2c50bbfb"
      },
      "execution_count": 50,
      "outputs": [
        {
          "output_type": "stream",
          "name": "stdout",
          "text": [
            "3/8\n"
          ]
        }
      ]
    },
    {
      "cell_type": "code",
      "source": [
        "print(fr1 / fr2)"
      ],
      "metadata": {
        "colab": {
          "base_uri": "https://localhost:8080/"
        },
        "id": "nwa3RYAJfO--",
        "outputId": "77f6ecda-6bc9-49f0-a161-1babe9e69184"
      },
      "execution_count": 51,
      "outputs": [
        {
          "output_type": "stream",
          "name": "stdout",
          "text": [
            "6/4\n"
          ]
        }
      ]
    }
  ]
}