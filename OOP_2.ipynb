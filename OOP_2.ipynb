{
  "nbformat": 4,
  "nbformat_minor": 0,
  "metadata": {
    "colab": {
      "provenance": [],
      "authorship_tag": "ABX9TyMPyJARvlaeqZafGyn4LmnU",
      "include_colab_link": true
    },
    "kernelspec": {
      "name": "python3",
      "display_name": "Python 3"
    },
    "language_info": {
      "name": "python"
    }
  },
  "cells": [
    {
      "cell_type": "markdown",
      "metadata": {
        "id": "view-in-github",
        "colab_type": "text"
      },
      "source": [
        "<a href=\"https://colab.research.google.com/github/shahpranshu27/Python-DSA/blob/main/OOP_2.ipynb\" target=\"_parent\"><img src=\"https://colab.research.google.com/assets/colab-badge.svg\" alt=\"Open In Colab\"/></a>"
      ]
    },
    {
      "cell_type": "markdown",
      "source": [
        "Write OOP class to handle following things:\n",
        "\n",
        "\n",
        "*   A user can create and view 2D coordinates\n",
        "*   A user can find out distance between 2 coordinate points\n",
        "*   A user can find distance of coordinate from origin\n",
        "*   A user can check if point/coordinate lies on given line\n",
        "*   A user can find distance between 2D point and line"
      ],
      "metadata": {
        "id": "q4lXQJ7oosxd"
      }
    },
    {
      "cell_type": "code",
      "execution_count": 29,
      "metadata": {
        "id": "ZZGlMJY0jfMh"
      },
      "outputs": [],
      "source": [
        "import math\n",
        "\n",
        "class Point:\n",
        "  def __init__(self, x, y):\n",
        "    self.x_cod = x\n",
        "    self.y_cod = y\n",
        "\n",
        "  def __str__(self):\n",
        "    # return '<' + str(self.x_cod) + ',' + str(self.y_cod) + '>'\n",
        "    return '<{},{}>'.format(self.x_cod, self.y_cod)\n",
        "\n",
        "  def euclidean_distance(self, other):\n",
        "    return math.sqrt((self.x_cod - other.x_cod)**2 + (self.y_cod - other.y_cod)**2)\n",
        "\n",
        "  def dist_from_origin(self):\n",
        "    return self.euclidean_distance(Point(0,0))\n",
        "\n",
        "\n",
        "class Line:\n",
        "  def __init__(self, A, B, C):\n",
        "    self.A = A\n",
        "    self.B = B\n",
        "    self.C = C\n",
        "\n",
        "  def __str__(self):\n",
        "    if self.C <0:\n",
        "      return '{}x + {}y {} = 0'.format(self.A, self.B, self.C)\n",
        "    else:\n",
        "      return '{}x + {}y + {} = 0'.format(self.A, self.B, self.C)\n",
        "\n",
        "  def point_on_line(line, point):\n",
        "    if line.A*point.x_cod + line.B*point.y_cod + line.C == 0:\n",
        "      return 'Point lies on line'\n",
        "    else:\n",
        "      return 'Point does not lie on line'\n",
        "\n",
        "  def shortest_distance(line, point):\n",
        "    return abs(line.A*point.x_cod + line.B*point.y_cod + line.C)/(line.A**2 + line.B**2)**0.5"
      ]
    },
    {
      "cell_type": "code",
      "source": [
        "p1 = Point(2,3)\n",
        "p2 = Point(3,4)\n",
        "print(p1)\n",
        "print(p2)\n",
        "print(p1.euclidean_distance(p2))\n",
        "print(p2.dist_from_origin())\n"
      ],
      "metadata": {
        "colab": {
          "base_uri": "https://localhost:8080/"
        },
        "id": "V92cywHJxDmV",
        "outputId": "ee9dd1cf-3a50-4458-9b0a-ab7cdae86890"
      },
      "execution_count": 30,
      "outputs": [
        {
          "output_type": "stream",
          "name": "stdout",
          "text": [
            "<2,3>\n",
            "<3,4>\n",
            "1.4142135623730951\n",
            "5.0\n"
          ]
        }
      ]
    },
    {
      "cell_type": "code",
      "source": [
        "l1 = Line(2,3,-13)\n",
        "p1 = Point(2,3)\n",
        "print(l1)\n",
        "print(p1)\n",
        "# here, we multiply l1.A*p1.x_cod + l1.B*B.y_cod + line.C = 0"
      ],
      "metadata": {
        "id": "52zHMwdsxFzr",
        "colab": {
          "base_uri": "https://localhost:8080/"
        },
        "outputId": "19b43387-ab13-49c5-a414-8386f2075b2f"
      },
      "execution_count": 31,
      "outputs": [
        {
          "output_type": "stream",
          "name": "stdout",
          "text": [
            "2x + 3y -13 = 0\n",
            "<2,3>\n"
          ]
        }
      ]
    },
    {
      "cell_type": "code",
      "source": [
        "l1.point_on_line(p1)"
      ],
      "metadata": {
        "colab": {
          "base_uri": "https://localhost:8080/",
          "height": 35
        },
        "id": "p7OURx0IfmFL",
        "outputId": "046b7564-c523-4aef-fc4e-caf04b276bf0"
      },
      "execution_count": 32,
      "outputs": [
        {
          "output_type": "execute_result",
          "data": {
            "text/plain": [
              "'Point lies on line'"
            ],
            "application/vnd.google.colaboratory.intrinsic+json": {
              "type": "string"
            }
          },
          "metadata": {},
          "execution_count": 32
        }
      ]
    },
    {
      "cell_type": "code",
      "source": [
        "l1.shortest_distance(p2)"
      ],
      "metadata": {
        "colab": {
          "base_uri": "https://localhost:8080/"
        },
        "id": "I9U20-rvgYEH",
        "outputId": "75a52d5b-65ac-4918-c58a-04dcce3ea4de"
      },
      "execution_count": 34,
      "outputs": [
        {
          "output_type": "execute_result",
          "data": {
            "text/plain": [
              "1.386750490563073"
            ]
          },
          "metadata": {},
          "execution_count": 34
        }
      ]
    },
    {
      "cell_type": "code",
      "source": [
        "class Person:\n",
        "\n",
        "  def __init__(self, name_input, country_input):\n",
        "    self.name = name_input\n",
        "    self.country = country_input\n",
        "\n",
        "  def greet(self):\n",
        "    if self.country == \"India\":\n",
        "      print(\"Namaste\", self.name)\n",
        "    else:\n",
        "      print(\"Hello\", self.name)"
      ],
      "metadata": {
        "id": "fgio3_hRjQdS"
      },
      "execution_count": 35,
      "outputs": []
    },
    {
      "cell_type": "code",
      "source": [
        "p1 = Person(\"Ankit\", \"India\")\n",
        "p1.greet()"
      ],
      "metadata": {
        "colab": {
          "base_uri": "https://localhost:8080/"
        },
        "id": "hk6Dg9KSxyDA",
        "outputId": "22af4d56-9ba0-4180-f11f-e502995fee4f"
      },
      "execution_count": 36,
      "outputs": [
        {
          "output_type": "stream",
          "name": "stdout",
          "text": [
            "Namaste Ankit\n"
          ]
        }
      ]
    },
    {
      "cell_type": "code",
      "source": [
        "# Person()?\n",
        "# p = Person()?\n",
        "# remember, p is just a ref variable, which contains address of the object that's created\n",
        "\n",
        "# q = p\n",
        "# now, q and p, both are pointing to same address\n",
        "\n",
        "# in conclusion, we can make so many reference variables with just one object, pointing at same address"
      ],
      "metadata": {
        "id": "N-Gqm9ZRx0T4"
      },
      "execution_count": 39,
      "outputs": []
    },
    {
      "cell_type": "code",
      "source": [
        "class Person:\n",
        "\n",
        "  def __init__(self, name, gender):\n",
        "    self.name = name\n",
        "    self.gender = gender\n",
        "\n",
        "def greet(person):\n",
        "  print('Hi my name is', person.name, 'and I am a', person.gender)\n",
        "  p2 = Person('Shreya', 'Female')\n",
        "  return p2"
      ],
      "metadata": {
        "id": "-rmKS-5S1G9P"
      },
      "execution_count": 44,
      "outputs": []
    },
    {
      "cell_type": "code",
      "source": [
        "p1 = Person('Ankit', 'Male')\n",
        "x = greet(p1)\n",
        "print(x.name)\n",
        "print(x.gender)"
      ],
      "metadata": {
        "colab": {
          "base_uri": "https://localhost:8080/"
        },
        "id": "XpiFd_HU_yZi",
        "outputId": "97f88704-832f-46ed-cb5e-1243d2370a5e"
      },
      "execution_count": 45,
      "outputs": [
        {
          "output_type": "stream",
          "name": "stdout",
          "text": [
            "Hi my name is Ankit and I am a Male\n",
            "Shreya\n",
            "Female\n"
          ]
        }
      ]
    },
    {
      "cell_type": "code",
      "source": [],
      "metadata": {
        "id": "RwE1M3Fv_2Wu"
      },
      "execution_count": null,
      "outputs": []
    }
  ]
}