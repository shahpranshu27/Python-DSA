{
  "nbformat": 4,
  "nbformat_minor": 0,
  "metadata": {
    "colab": {
      "provenance": [],
      "authorship_tag": "ABX9TyOkDWp0G81JAzt/wkU2dWUt",
      "include_colab_link": true
    },
    "kernelspec": {
      "name": "python3",
      "display_name": "Python 3"
    },
    "language_info": {
      "name": "python"
    }
  },
  "cells": [
    {
      "cell_type": "markdown",
      "metadata": {
        "id": "view-in-github",
        "colab_type": "text"
      },
      "source": [
        "<a href=\"https://colab.research.google.com/github/shahpranshu27/Python-DSA/blob/main/OOP_2.ipynb\" target=\"_parent\"><img src=\"https://colab.research.google.com/assets/colab-badge.svg\" alt=\"Open In Colab\"/></a>"
      ]
    },
    {
      "cell_type": "markdown",
      "source": [
        "Write OOP class to handle following things:\n",
        "\n",
        "\n",
        "*   A user can create and view 2D coordinates\n",
        "*   A user can find out distance between 2 coordinate points\n",
        "*   A user can find distance of coordinate from origin\n",
        "*   A user can check if point/coordinate lies on given line\n",
        "*   A user can find distance between 2D point and line"
      ],
      "metadata": {
        "id": "q4lXQJ7oosxd"
      }
    },
    {
      "cell_type": "code",
      "execution_count": 1,
      "metadata": {
        "id": "ZZGlMJY0jfMh"
      },
      "outputs": [],
      "source": [
        "import math\n",
        "\n",
        "class Point:\n",
        "  def __init__(self, x, y):\n",
        "    self.x_cod = x\n",
        "    self.y_cod = y\n",
        "\n",
        "  def __str__(self):\n",
        "    # return '<' + str(self.x_cod) + ',' + str(self.y_cod) + '>'\n",
        "    return '<{},{}>'.format(self.x_cod, self.y_cod)\n",
        "\n",
        "  def euclidean_distance(self, other):\n",
        "    return math.sqrt((self.x_cod - other.x_cod)**2 + (self.y_cod - other.y_cod)**2)\n",
        "\n",
        "  def dist_from_origin(self):\n",
        "    return self.euclidean_distance(Point(0,0))\n",
        "\n",
        "\n",
        "class Line:\n",
        "  def __init__(self, A, B, C):\n",
        "    self.A = A\n",
        "    self.B = B\n",
        "    self.C = C\n",
        "\n",
        "  def __str__(self):\n",
        "    if self.C <0:\n",
        "      return '{}x + {}y {} = 0'.format(self.A, self.B, self.C)\n",
        "    else:\n",
        "      return '{}x + {}y + {} = 0'.format(self.A, self.B, self.C)\n",
        "\n",
        "  def point_on_line(line, point):\n",
        "    if line.A*point.x_cod + line.B*point.y_cod + line.C == 0:\n",
        "      return 'Point lies on line'\n",
        "    else:\n",
        "      return 'Point does not lie on line'\n",
        "\n",
        "  def shortest_distance(line, point):\n",
        "    return abs(line.A*point.x_cod + line.B*point.y_cod + line.C)/(line.A**2 + line.B**2)**0.5"
      ]
    },
    {
      "cell_type": "code",
      "source": [
        "p1 = Point(2,3)\n",
        "p2 = Point(3,4)\n",
        "print(p1)\n",
        "print(p2)\n",
        "print(p1.euclidean_distance(p2))\n",
        "print(p2.dist_from_origin())\n"
      ],
      "metadata": {
        "colab": {
          "base_uri": "https://localhost:8080/"
        },
        "id": "V92cywHJxDmV",
        "outputId": "d4502632-ab88-4213-b6df-86626802fbc1"
      },
      "execution_count": 2,
      "outputs": [
        {
          "output_type": "stream",
          "name": "stdout",
          "text": [
            "<2,3>\n",
            "<3,4>\n",
            "1.4142135623730951\n",
            "5.0\n"
          ]
        }
      ]
    },
    {
      "cell_type": "code",
      "source": [
        "l1 = Line(2,3,-13)\n",
        "p1 = Point(2,3)\n",
        "print(l1)\n",
        "print(p1)\n",
        "# here, we multiply l1.A*p1.x_cod + l1.B*B.y_cod + line.C = 0"
      ],
      "metadata": {
        "id": "52zHMwdsxFzr",
        "colab": {
          "base_uri": "https://localhost:8080/"
        },
        "outputId": "81dd4182-6a9b-42bf-f73e-f4869f90fe2a"
      },
      "execution_count": 3,
      "outputs": [
        {
          "output_type": "stream",
          "name": "stdout",
          "text": [
            "2x + 3y -13 = 0\n",
            "<2,3>\n"
          ]
        }
      ]
    },
    {
      "cell_type": "code",
      "source": [
        "l1.point_on_line(p1)"
      ],
      "metadata": {
        "colab": {
          "base_uri": "https://localhost:8080/",
          "height": 35
        },
        "id": "p7OURx0IfmFL",
        "outputId": "95a617f8-e87e-4f4a-ab6a-3116fc260d1e"
      },
      "execution_count": 4,
      "outputs": [
        {
          "output_type": "execute_result",
          "data": {
            "text/plain": [
              "'Point lies on line'"
            ],
            "application/vnd.google.colaboratory.intrinsic+json": {
              "type": "string"
            }
          },
          "metadata": {},
          "execution_count": 4
        }
      ]
    },
    {
      "cell_type": "code",
      "source": [
        "l1.shortest_distance(p2)"
      ],
      "metadata": {
        "colab": {
          "base_uri": "https://localhost:8080/"
        },
        "id": "I9U20-rvgYEH",
        "outputId": "568d7526-8fed-4702-976b-7375b5ed9da0"
      },
      "execution_count": 5,
      "outputs": [
        {
          "output_type": "execute_result",
          "data": {
            "text/plain": [
              "1.386750490563073"
            ]
          },
          "metadata": {},
          "execution_count": 5
        }
      ]
    },
    {
      "cell_type": "code",
      "source": [
        "class Person:\n",
        "\n",
        "  def __init__(self, name_input, country_input):\n",
        "    self.name = name_input\n",
        "    self.country = country_input\n",
        "\n",
        "  def greet(self):\n",
        "    if self.country == \"India\":\n",
        "      print(\"Namaste\", self.name)\n",
        "    else:\n",
        "      print(\"Hello\", self.name)"
      ],
      "metadata": {
        "id": "fgio3_hRjQdS"
      },
      "execution_count": 6,
      "outputs": []
    },
    {
      "cell_type": "code",
      "source": [
        "p1 = Person(\"Ankit\", \"India\")\n",
        "p1.greet()"
      ],
      "metadata": {
        "colab": {
          "base_uri": "https://localhost:8080/"
        },
        "id": "hk6Dg9KSxyDA",
        "outputId": "93c242af-e504-4bfd-bf47-cdd37bcb3f1b"
      },
      "execution_count": 7,
      "outputs": [
        {
          "output_type": "stream",
          "name": "stdout",
          "text": [
            "Namaste Ankit\n"
          ]
        }
      ]
    },
    {
      "cell_type": "code",
      "source": [
        "# Person()?\n",
        "# p = Person()?\n",
        "# remember, p is just a ref variable, which contains address of the object that's created\n",
        "\n",
        "# q = p\n",
        "# now, q and p, both are pointing to same address\n",
        "\n",
        "# in conclusion, we can make so many reference variables with just one object, pointing at same address"
      ],
      "metadata": {
        "id": "N-Gqm9ZRx0T4"
      },
      "execution_count": 8,
      "outputs": []
    },
    {
      "cell_type": "code",
      "source": [
        "class Person:\n",
        "\n",
        "  def __init__(self, name, gender):\n",
        "    self.name = name\n",
        "    self.gender = gender\n",
        "\n",
        "def greet(person):\n",
        "  print('Hi my name is', person.name, 'and I am a', person.gender)\n",
        "  p2 = Person('Shreya', 'Female')\n",
        "  return p2"
      ],
      "metadata": {
        "id": "-rmKS-5S1G9P"
      },
      "execution_count": 9,
      "outputs": []
    },
    {
      "cell_type": "code",
      "source": [
        "p1 = Person('Ankit', 'Male')\n",
        "x = greet(p1)\n",
        "print(x.name)\n",
        "print(x.gender)"
      ],
      "metadata": {
        "colab": {
          "base_uri": "https://localhost:8080/"
        },
        "id": "XpiFd_HU_yZi",
        "outputId": "13f83352-8b44-4769-8a8d-ea0aeffe91e3"
      },
      "execution_count": 10,
      "outputs": [
        {
          "output_type": "stream",
          "name": "stdout",
          "text": [
            "Hi my name is Ankit and I am a Male\n",
            "Shreya\n",
            "Female\n"
          ]
        }
      ]
    },
    {
      "cell_type": "code",
      "source": [
        "class Atm:\n",
        "\n",
        "  # contructor (special function) -> it has a superpower, that to run the code inside this function, we don't need to call this function explicitly, unlike other functions.\n",
        "  # The code inside is run automatically as we create an object\n",
        "  def __init__(self):\n",
        "    self.pin = ''\n",
        "    self.balance = 0\n",
        "    # self.menu()\n",
        "\n",
        "  def menu(self):\n",
        "    user_input = input(\"\"\"\n",
        "    Hi, How can I help you?\n",
        "    1. Press 1 for create pin\n",
        "    2. Press 2 for change pin\n",
        "    3. Press 3 for check balance\n",
        "    4. Press 4 for withdraw balance\n",
        "    5. Press anything else for exit\n",
        "    \"\"\")\n",
        "\n",
        "    if user_input == '1':\n",
        "      # create pin\n",
        "      self.create_pin()\n",
        "    elif user_input == '2':\n",
        "      # change pin\n",
        "      self.change_pin()\n",
        "    elif user_input == '3':\n",
        "      # check balance\n",
        "      self.check_balance()\n",
        "    elif user_input == '4':\n",
        "      # withdraw balance\n",
        "      self.withdraw_balance()\n",
        "    else:\n",
        "      exit()\n",
        "\n",
        "  def create_pin(self):\n",
        "    user_pin = input(\"enter pin: \")\n",
        "    self.pin = user_pin\n",
        "    # print(self.pin)\n",
        "\n",
        "    user_balance = int(input(\"enter balance: \"))\n",
        "    self.balance = user_balance\n",
        "    # print(self.balance)\n",
        "\n",
        "    print(\"pin created successfully\")\n",
        "    self.menu()\n",
        "\n",
        "  def change_pin(self):\n",
        "    old_pin = input(\"enter old pin: \")\n",
        "    if old_pin == self.pin:\n",
        "      new_pin = int(input(\"enter new pin: \"))\n",
        "      self.pin = new_pin\n",
        "      print(\"pin changed successfully\")\n",
        "      self.menu()\n",
        "    else:\n",
        "      print(\"invalid old pin\")\n",
        "      self.menu()\n",
        "\n",
        "  def check_balance(self):\n",
        "    user_pin = input(\"enter pin:\")\n",
        "    if user_pin == self.pin:\n",
        "      print(\"your balance is: \", self.balance)\n",
        "      self.menu()\n",
        "    else:\n",
        "      print(\"invalid pin\")\n",
        "      self.menu()\n",
        "\n",
        "  def withdraw_balance(self):\n",
        "    user_pin = input(\"enter pin: \")\n",
        "    if user_pin == self.pin:\n",
        "      amount = int(input(\"enter amount to withdraw: \"))\n",
        "      if self.balance >= amount:\n",
        "        self.balance -= amount\n",
        "        print(\"amount withdrawn successfully\")\n",
        "        print(\"current balance: \", self.balance)\n",
        "        self.menu()\n",
        "      else:\n",
        "        print(\"insufficient balance!\")\n",
        "        self.menu()\n",
        "    else:\n",
        "      print(\"invalid pin\")\n",
        "      self.menu()"
      ],
      "metadata": {
        "id": "RwE1M3Fv_2Wu"
      },
      "execution_count": 11,
      "outputs": []
    },
    {
      "cell_type": "code",
      "source": [
        "obj = Atm()"
      ],
      "metadata": {
        "id": "iUzwctm91-CB"
      },
      "execution_count": 12,
      "outputs": []
    },
    {
      "cell_type": "code",
      "source": [
        "obj.balance = 'hello'\n",
        "obj.balance"
      ],
      "metadata": {
        "colab": {
          "base_uri": "https://localhost:8080/",
          "height": 35
        },
        "id": "4EcXllyr2CHp",
        "outputId": "f583a7a0-f885-45cc-d423-d774f93d7d7b"
      },
      "execution_count": 13,
      "outputs": [
        {
          "output_type": "execute_result",
          "data": {
            "text/plain": [
              "'hello'"
            ],
            "application/vnd.google.colaboratory.intrinsic+json": {
              "type": "string"
            }
          },
          "metadata": {},
          "execution_count": 13
        }
      ]
    },
    {
      "cell_type": "code",
      "source": [],
      "metadata": {
        "id": "Qloe4_Bn2VTK"
      },
      "execution_count": 13,
      "outputs": []
    }
  ]
}