{
  "nbformat": 4,
  "nbformat_minor": 0,
  "metadata": {
    "colab": {
      "provenance": [],
      "authorship_tag": "ABX9TyP1d/vlTLuUWImuuQ4zXku7",
      "include_colab_link": true
    },
    "kernelspec": {
      "name": "python3",
      "display_name": "Python 3"
    },
    "language_info": {
      "name": "python"
    }
  },
  "cells": [
    {
      "cell_type": "markdown",
      "metadata": {
        "id": "view-in-github",
        "colab_type": "text"
      },
      "source": [
        "<a href=\"https://colab.research.google.com/github/shahpranshu27/Python-DSA/blob/main/OOP_2.ipynb\" target=\"_parent\"><img src=\"https://colab.research.google.com/assets/colab-badge.svg\" alt=\"Open In Colab\"/></a>"
      ]
    },
    {
      "cell_type": "markdown",
      "source": [
        "Write OOP class to handle following things:\n",
        "\n",
        "\n",
        "*   A user can create and view 2D coordinates\n",
        "*   A user can find out distance between 2 coordinate points\n",
        "*   A user can find distance of coordinate from origin\n",
        "*   A user can check if point/coordinate lies on given line\n",
        "*   A user can find distance between 2D point and line"
      ],
      "metadata": {
        "id": "q4lXQJ7oosxd"
      }
    },
    {
      "cell_type": "code",
      "execution_count": 9,
      "metadata": {
        "id": "ZZGlMJY0jfMh"
      },
      "outputs": [],
      "source": [
        "class Point:\n",
        "  def __init__(self, x, y):\n",
        "    self.x_cod = x\n",
        "    self.y_cod = y\n",
        "\n",
        "  def __str__(self):\n",
        "    # return '<' + str(self.x_cod) + ',' + str(self.y_cod) + '>'\n",
        "    return '{},{}'.format(self.x_cod, self.y_cod)"
      ]
    },
    {
      "cell_type": "code",
      "source": [
        "p1 = Point(2,3)\n",
        "print(p1)"
      ],
      "metadata": {
        "colab": {
          "base_uri": "https://localhost:8080/"
        },
        "id": "V92cywHJxDmV",
        "outputId": "d45aa1b5-8a0c-4651-8a7e-242e8ec52ebd"
      },
      "execution_count": 10,
      "outputs": [
        {
          "output_type": "stream",
          "name": "stdout",
          "text": [
            "2,3\n"
          ]
        }
      ]
    },
    {
      "cell_type": "code",
      "source": [],
      "metadata": {
        "id": "52zHMwdsxFzr"
      },
      "execution_count": null,
      "outputs": []
    }
  ]
}