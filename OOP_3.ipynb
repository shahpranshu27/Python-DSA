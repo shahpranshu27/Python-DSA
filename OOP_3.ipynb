{
  "nbformat": 4,
  "nbformat_minor": 0,
  "metadata": {
    "colab": {
      "provenance": [],
      "authorship_tag": "ABX9TyMPyagmEqf3nzmTs9X0AlCu",
      "include_colab_link": true
    },
    "kernelspec": {
      "name": "python3",
      "display_name": "Python 3"
    },
    "language_info": {
      "name": "python"
    }
  },
  "cells": [
    {
      "cell_type": "markdown",
      "metadata": {
        "id": "view-in-github",
        "colab_type": "text"
      },
      "source": [
        "<a href=\"https://colab.research.google.com/github/shahpranshu27/Python-DSA/blob/main/OOP_3.ipynb\" target=\"_parent\"><img src=\"https://colab.research.google.com/assets/colab-badge.svg\" alt=\"Open In Colab\"/></a>"
      ]
    },
    {
      "cell_type": "markdown",
      "source": [
        "  Class Relationships\n",
        "  * Aggregation\n",
        "  * Inheritance"
      ],
      "metadata": {
        "id": "t303OdSQJbZ0"
      }
    },
    {
      "cell_type": "markdown",
      "source": [
        "### Aggregation (Has - A - Relation)"
      ],
      "metadata": {
        "id": "jtPnGowxKP1l"
      }
    },
    {
      "cell_type": "code",
      "execution_count": 15,
      "metadata": {
        "id": "jY_ktJ2oFPvg",
        "colab": {
          "base_uri": "https://localhost:8080/"
        },
        "outputId": "fa4dd78f-8eca-4d06-8517-ef3b80cb62f0"
      },
      "outputs": [
        {
          "output_type": "stream",
          "name": "stdout",
          "text": [
            "ahmedabad 100000 gujarat\n"
          ]
        }
      ],
      "source": [
        "class Customer:\n",
        "\n",
        "  def __init__(self, name, gender, address):\n",
        "    self.name = name\n",
        "    self.gender = gender\n",
        "    self.address = address\n",
        "\n",
        "  def print_address(self):\n",
        "    print(self.address.city, self.address.pincode, self.address.state)\n",
        "\n",
        "class Address:\n",
        "\n",
        "  def __init__(self, city, pincode, state):\n",
        "    self.city = city\n",
        "    self.pincode = pincode\n",
        "    self.state = state\n",
        "\n",
        "add1 = Address('ahmedabad', 100000, 'gujarat')\n",
        "cust1 = Customer('abc', 'male', add1)\n",
        "\n",
        "cust1.print_address()"
      ]
    },
    {
      "cell_type": "code",
      "source": [
        "# to access private attributes\n",
        "class Customer:\n",
        "\n",
        "  def __init__(self, name, gender, address):\n",
        "    self.name = name\n",
        "    self.gender = gender\n",
        "    self.address = address\n",
        "\n",
        "  def print_address(self):\n",
        "    # print(self.address.__city, self.address.pincode, self.address.state) -> not possible as we can not access private attribues in this way while doing aggregation\n",
        "    print(self.address.get_city(), self.address.pincode, self.address.state) # to access private attributes in aggregation, we can use getters and setters\n",
        "\n",
        "  def edit_profile(self, new_name, new_city, new_pincode, new_state):\n",
        "    self.name = new_name\n",
        "    self.address.edit_address(new_city, new_pincode, new_state)\n",
        "\n",
        "class Address:\n",
        "\n",
        "  def __init__(self, city, pincode, state):\n",
        "    self.__city = city\n",
        "    self.pincode = pincode\n",
        "    self.state = state\n",
        "\n",
        "  def get_city(self):\n",
        "    return self.__city\n",
        "\n",
        "  def edit_address(self, new_city, new_pincode, new_state):\n",
        "    self.__city = new_city\n",
        "    self.pincode = new_pincode\n",
        "    self.state = new_state\n",
        "\n",
        "add1 = Address('ahmedabad', 100000, 'gujarat')\n",
        "cust1 = Customer('abc', 'male', add1)\n",
        "\n",
        "cust1.print_address()\n",
        "\n",
        "cust1.edit_profile('def', 'mumbai', 111111, 'maharashtra')\n",
        "cust1.print_address()"
      ],
      "metadata": {
        "colab": {
          "base_uri": "https://localhost:8080/"
        },
        "id": "RXYQ81xrOeE8",
        "outputId": "9f6545c0-3793-4cf9-e24b-fa39bdf08ec7"
      },
      "execution_count": 16,
      "outputs": [
        {
          "output_type": "stream",
          "name": "stdout",
          "text": [
            "ahmedabad 100000 gujarat\n",
            "mumbai 111111 maharashtra\n"
          ]
        }
      ]
    },
    {
      "cell_type": "markdown",
      "source": [
        "In simple words, aggregation is nothing but sending a class's object as an input in other class's object."
      ],
      "metadata": {
        "id": "mVLSyMrMXCO_"
      }
    },
    {
      "cell_type": "markdown",
      "source": [
        "### Inheritance"
      ],
      "metadata": {
        "id": "8TqXt0i6hwEZ"
      }
    },
    {
      "cell_type": "code",
      "source": [
        "# parent class\n",
        "class User:\n",
        "\n",
        "  def __init__(self):\n",
        "    self.name = 'abc'\n",
        "\n",
        "  def login(self):\n",
        "    print('login')\n",
        "\n",
        "# child class\n",
        "class Student(User):\n",
        "\n",
        "  # def __init__(self):\n",
        "  #   self.roll_no = 100\n",
        "\n",
        "  def enroll(self):\n",
        "    print(\"enrolled!\")\n",
        "\n",
        "u = User()\n",
        "s = Student()\n",
        "\n",
        "print(s.name)\n",
        "s.login()\n",
        "s.enroll()"
      ],
      "metadata": {
        "colab": {
          "base_uri": "https://localhost:8080/"
        },
        "id": "yUC9blWaPdVR",
        "outputId": "cd61f72f-4a27-4732-91c7-26c0af9fa9a5"
      },
      "execution_count": 17,
      "outputs": [
        {
          "output_type": "stream",
          "name": "stdout",
          "text": [
            "abc\n",
            "login\n",
            "enrolled!\n"
          ]
        }
      ]
    },
    {
      "cell_type": "markdown",
      "source": [
        "The problem with above code previously was that, when the child class's object is called, it first checks if there's a constructor available in the child class itself. If there's a contructor present, and the particular attribute would be present in that constructor, then there's no issue. But if there's no attribute in that constructor, then it would give an error.\n",
        "Also, if there's no constructor in the child class, it checks the constructor of parent class, and see for the attributes there.\n",
        "\n",
        "In the above example, at first we had created a constructor in child class, but there we didn't include name attribute. And that's why, when we tried to call s.name, it gave an error, because we were trying to access the attribute which is present in parent class and not child class, and there was a constructor already in child class. If there would not have been a contructor in child class, then the child class would have accessed constructor of parent class, and checked for name attribute, which was present in parent class. Thus, it gave the proper output."
      ],
      "metadata": {
        "id": "QvMqf5xolI7t"
      }
    },
    {
      "cell_type": "markdown",
      "source": [
        "What gets Inherited?\n",
        "* Constructor (__ init __)\n",
        "* Non private attributes (variables)\n",
        "* Non private methods"
      ],
      "metadata": {
        "id": "Ez7bseTBDk3p"
      }
    },
    {
      "cell_type": "code",
      "source": [
        "# constructor example\n",
        "\n",
        "class Phone:\n",
        "\n",
        "  def __init__(self, price, brand, camera):\n",
        "    print(\"inside phone constructor\")\n",
        "    self.price = price\n",
        "    self.brand = brand\n",
        "    self.camera = camera\n",
        "\n",
        "  def buy(self):\n",
        "    print(\"buy\")\n",
        "\n",
        "class SmartPhone(Phone):\n",
        "\n",
        "  def __init__(self, os, ram):\n",
        "    self.os = os\n",
        "    self.ram = ram\n",
        "    print(\"inside smartphone constructor\")\n",
        "\n",
        "# s = SmartPhone(20000, 'samsung', 13)\n",
        "s = SmartPhone('android', 2)"
      ],
      "metadata": {
        "colab": {
          "base_uri": "https://localhost:8080/"
        },
        "id": "waK6fKuwjGK9",
        "outputId": "2537855b-ded2-4580-cc03-b2b6d6bd7392"
      },
      "execution_count": 18,
      "outputs": [
        {
          "output_type": "stream",
          "name": "stdout",
          "text": [
            "inside smartphone constructor\n"
          ]
        }
      ]
    },
    {
      "cell_type": "markdown",
      "source": [
        "the above code means, that if there's no constructor in child class, then it will use parent class's constructor.\n",
        "\n",
        "And, if there will be a constructor in child class itself, then that will be called. And since that will be called, not attrributes of parent class will be initialised."
      ],
      "metadata": {
        "id": "JUOKd4feaMcA"
      }
    },
    {
      "cell_type": "markdown",
      "source": [
        "Method Overloading:\n",
        "\n",
        "\n",
        "If the same methods are available in child class as well as parent class, then the method from child class will be executed."
      ],
      "metadata": {
        "id": "Mbv_zShRJ7h9"
      }
    },
    {
      "cell_type": "code",
      "source": [
        "class Phone:\n",
        "    def __init__(self, price, brand, camera):\n",
        "        print (\"Inside phone constructor\")\n",
        "        self.__price = price\n",
        "        self.brand = brand\n",
        "        self.camera = camera\n",
        "\n",
        "    def buy(self):\n",
        "        print (\"Buying a phone\")\n",
        "\n",
        "class SmartPhone(Phone):\n",
        "    def buy(self):\n",
        "        print (\"Buying a smartphone\")\n",
        "\n",
        "s=SmartPhone(20000, \"Apple\", 13)\n",
        "\n",
        "s.buy()"
      ],
      "metadata": {
        "colab": {
          "base_uri": "https://localhost:8080/"
        },
        "id": "tvPSDiPIZZuf",
        "outputId": "f51ca7d0-9486-462f-a760-68437c98f9eb"
      },
      "execution_count": 19,
      "outputs": [
        {
          "output_type": "stream",
          "name": "stdout",
          "text": [
            "Inside phone constructor\n",
            "Buying a smartphone\n"
          ]
        }
      ]
    },
    {
      "cell_type": "markdown",
      "source": [
        "* super keyword can be used to call methods of parent class.\n",
        "\n",
        "* super keyword can not be used outside the class, it is always used inside the class, generally child class.\n",
        "\n",
        "* super can not access variables"
      ],
      "metadata": {
        "id": "kA_v-BbVZDMD"
      }
    },
    {
      "cell_type": "code",
      "source": [
        "class Phone:\n",
        "    def __init__(self, price, brand, camera):\n",
        "        print (\"Inside phone constructor\")\n",
        "        self.__price = price\n",
        "        self.brand = brand\n",
        "        self.camera = camera\n",
        "\n",
        "    def buy(self):\n",
        "        print (\"Buying a phone\")\n",
        "\n",
        "class SmartPhone(Phone):\n",
        "    def buy(self):\n",
        "        print (\"Buying a smartphone\")\n",
        "        # super() is a way to call parent class's method\n",
        "        super().buy()\n",
        "\n",
        "s=SmartPhone(20000, \"Apple\", 13)\n",
        "\n",
        "s.buy()"
      ],
      "metadata": {
        "colab": {
          "base_uri": "https://localhost:8080/"
        },
        "id": "d8Xc_83saFmf",
        "outputId": "93154d90-0278-4fc4-a10f-c534c32b799c"
      },
      "execution_count": 20,
      "outputs": [
        {
          "output_type": "stream",
          "name": "stdout",
          "text": [
            "Inside phone constructor\n",
            "Buying a smartphone\n",
            "Buying a phone\n"
          ]
        }
      ]
    },
    {
      "cell_type": "code",
      "source": [
        "# super constructor\n",
        "\n",
        "class Phone:\n",
        "\n",
        "  def __init__(self, price, brand, camera):\n",
        "    print(\"inside phone constructor\")\n",
        "    self.__price = price\n",
        "    self.brand = brand\n",
        "    self.camera = camera\n",
        "\n",
        "\n",
        "class SmartPhone(Phone):\n",
        "\n",
        "  def __init__(self, price, brand, camera, os, ram):\n",
        "    print(\"inside smartphone constructor\")\n",
        "    super().__init__(price, brand, camera)\n",
        "    self.os = os\n",
        "    self.ram = ram\n",
        "    print(\"inside smartphone constructor\")\n",
        "\n",
        "s = SmartPhone(10000, 'Apple', 48, 'Mac', 12)\n",
        "\n",
        "print(s.os)\n",
        "print(s.ram)"
      ],
      "metadata": {
        "colab": {
          "base_uri": "https://localhost:8080/"
        },
        "id": "NmSXlf3nZjRU",
        "outputId": "0328181a-0f60-4587-8e24-c6c8c9e3271d"
      },
      "execution_count": 21,
      "outputs": [
        {
          "output_type": "stream",
          "name": "stdout",
          "text": [
            "inside smartphone constructor\n",
            "inside phone constructor\n",
            "inside smartphone constructor\n",
            "Mac\n",
            "12\n"
          ]
        }
      ]
    },
    {
      "cell_type": "markdown",
      "source": [
        "Inheritance summary:\n",
        "\n",
        "* A class can inherit from another class\n",
        "\n",
        "* Inheritance improves code reusablility.\n",
        "\n",
        "* Constructors, attributes, methods get inherited to the child class\n",
        "\n",
        "* Parent has no access to child class\n",
        "\n",
        "* Private attributes of parent are not accessible directly to child class\n",
        "\n",
        "* Child class can override attributes or methods, this is called method overriding"
      ],
      "metadata": {
        "id": "45Z4njtAczBn"
      }
    },
    {
      "cell_type": "code",
      "source": [],
      "metadata": {
        "id": "LqGnMKhjbIag"
      },
      "execution_count": 21,
      "outputs": []
    }
  ]
}