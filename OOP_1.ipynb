{
  "nbformat": 4,
  "nbformat_minor": 0,
  "metadata": {
    "colab": {
      "provenance": [],
      "authorship_tag": "ABX9TyMSrVCiqvsIhTFVO28R55L8",
      "include_colab_link": true
    },
    "kernelspec": {
      "name": "python3",
      "display_name": "Python 3"
    },
    "language_info": {
      "name": "python"
    }
  },
  "cells": [
    {
      "cell_type": "markdown",
      "metadata": {
        "id": "view-in-github",
        "colab_type": "text"
      },
      "source": [
        "<a href=\"https://colab.research.google.com/github/shahpranshu27/Python-DSA/blob/main/OOP_1.ipynb\" target=\"_parent\"><img src=\"https://colab.research.google.com/assets/colab-badge.svg\" alt=\"Open In Colab\"/></a>"
      ]
    },
    {
      "cell_type": "code",
      "execution_count": 1,
      "metadata": {
        "id": "euZ4zizxJwEr"
      },
      "outputs": [],
      "source": [
        "# Syntax of OOP\n",
        "# class_name = object_name()"
      ]
    },
    {
      "cell_type": "code",
      "source": [
        "L = list()\n",
        "L"
      ],
      "metadata": {
        "colab": {
          "base_uri": "https://localhost:8080/"
        },
        "id": "YI5bPh8pK64d",
        "outputId": "171a8c09-0fd6-4542-ecec-8c3a3f3ec8b5"
      },
      "execution_count": 2,
      "outputs": [
        {
          "output_type": "execute_result",
          "data": {
            "text/plain": [
              "[]"
            ]
          },
          "metadata": {},
          "execution_count": 2
        }
      ]
    },
    {
      "cell_type": "code",
      "source": [
        "# object literal -> Here we don't require to write List, Sets, Tuple etc in the format of class = object(), because they're predefined and in built\n",
        "L = [1,2,3]\n",
        "L"
      ],
      "metadata": {
        "colab": {
          "base_uri": "https://localhost:8080/"
        },
        "id": "OnACu6wpK9Kl",
        "outputId": "3948b4e3-2820-422a-c889-7b81ab167de9"
      },
      "execution_count": 3,
      "outputs": [
        {
          "output_type": "execute_result",
          "data": {
            "text/plain": [
              "[1, 2, 3]"
            ]
          },
          "metadata": {},
          "execution_count": 3
        }
      ]
    },
    {
      "cell_type": "code",
      "source": [
        "# Classes are set of rules, and objects are instances of classes"
      ],
      "metadata": {
        "id": "VDns5_KlLDCL"
      },
      "execution_count": 4,
      "outputs": []
    },
    {
      "cell_type": "code",
      "source": [
        "class Atm:\n",
        "\n",
        "  # contructor (special function) -> it has a superpower, that to run the code inside this function, we don't need to call this function explicitly, unlike other functions.\n",
        "  # The code inside is run automatically as we create an object\n",
        "  def __init__(self):\n",
        "    self.pin = ''\n",
        "    self.balance = 0\n",
        "    # self.menu()\n",
        "\n",
        "  def menu(self):\n",
        "    user_input = input(\"\"\"\n",
        "    Hi, How can I help you?\n",
        "    1. Press 1 for create pin\n",
        "    2. Press 2 for change pin\n",
        "    3. Press 3 for check balance\n",
        "    4. Press 4 for withdraw balance\n",
        "    5. Press anything else for exit\n",
        "    \"\"\")\n",
        "\n",
        "    if user_input == '1':\n",
        "      # create pin\n",
        "      self.create_pin()\n",
        "    elif user_input == '2':\n",
        "      # change pin\n",
        "      self.change_pin()\n",
        "    elif user_input == '3':\n",
        "      # check balance\n",
        "      self.check_balance()\n",
        "    elif user_input == '4':\n",
        "      # withdraw balance\n",
        "      self.withdraw_balance()\n",
        "    else:\n",
        "      exit()\n",
        "\n",
        "  def create_pin(self):\n",
        "    user_pin = input(\"enter pin: \")\n",
        "    self.pin = user_pin\n",
        "    # print(self.pin)\n",
        "\n",
        "    user_balance = int(input(\"enter balance: \"))\n",
        "    self.balance = user_balance\n",
        "    # print(self.balance)\n",
        "\n",
        "    print(\"pin created successfully\")\n",
        "    self.menu()\n",
        "\n",
        "  def change_pin(self):\n",
        "    old_pin = input(\"enter old pin: \")\n",
        "    if old_pin == self.pin:\n",
        "      new_pin = int(input(\"enter new pin: \"))\n",
        "      self.pin = new_pin\n",
        "      print(\"pin changed successfully\")\n",
        "      self.menu()\n",
        "    else:\n",
        "      print(\"invalid old pin\")\n",
        "      self.menu()\n",
        "\n",
        "  def check_balance(self):\n",
        "    user_pin = input(\"enter pin:\")\n",
        "    if user_pin == self.pin:\n",
        "      print(\"your balance is: \", self.balance)\n",
        "      self.menu()\n",
        "    else:\n",
        "      print(\"invalid pin\")\n",
        "      self.menu()\n",
        "\n",
        "  def withdraw_balance(self):\n",
        "    user_pin = input(\"enter pin: \")\n",
        "    if user_pin == self.pin:\n",
        "      amount = int(input(\"enter amount to withdraw: \"))\n",
        "      if self.balance >= amount:\n",
        "        self.balance -= amount\n",
        "        print(\"amount withdrawn successfully\")\n",
        "        print(\"current balance: \", self.balance)\n",
        "        self.menu()\n",
        "      else:\n",
        "        print(\"insufficient balance!\")\n",
        "        self.menu()\n",
        "    else:\n",
        "      print(\"invalid pin\")\n",
        "      self.menu()\n"
      ],
      "metadata": {
        "id": "YOpSJUHKSvMp"
      },
      "execution_count": 5,
      "outputs": []
    },
    {
      "cell_type": "code",
      "source": [
        "obj = Atm()"
      ],
      "metadata": {
        "id": "ImYYIeRgTysp"
      },
      "execution_count": 6,
      "outputs": []
    },
    {
      "cell_type": "code",
      "source": [
        "print(type(obj))"
      ],
      "metadata": {
        "colab": {
          "base_uri": "https://localhost:8080/"
        },
        "id": "jAZbG-f2T0h4",
        "outputId": "2fb905c2-5c2d-48de-e436-eae5bbaa5dcb"
      },
      "execution_count": 7,
      "outputs": [
        {
          "output_type": "stream",
          "name": "stdout",
          "text": [
            "<class '__main__.Atm'>\n"
          ]
        }
      ]
    },
    {
      "cell_type": "code",
      "source": [
        "L = [1,2,3]\n",
        "len(L) # function -> predefined and outside the class List\n",
        "L.append(4) # method -> because it's inside the class List"
      ],
      "metadata": {
        "id": "4q6vsOkZT7d4"
      },
      "execution_count": 8,
      "outputs": []
    },
    {
      "cell_type": "code",
      "source": [],
      "metadata": {
        "id": "MTRSZCviliH9"
      },
      "execution_count": 8,
      "outputs": []
    }
  ]
}